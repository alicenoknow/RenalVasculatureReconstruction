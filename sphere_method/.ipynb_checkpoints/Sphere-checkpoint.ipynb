{
 "cells": [
  {
   "cell_type": "code",
   "execution_count": 1,
   "id": "77efa9a2",
   "metadata": {},
   "outputs": [],
   "source": [
    "from identification import get_starting_points"
   ]
  },
  {
   "cell_type": "code",
   "execution_count": 2,
   "id": "3d4f555f",
   "metadata": {},
   "outputs": [],
   "source": [
    "from PIL import Image\n",
    "from sklearn import preprocessing\n",
    "\n",
    "import numpy as np"
   ]
  },
  {
   "cell_type": "code",
   "execution_count": 14,
   "id": "0cf1d316",
   "metadata": {},
   "outputs": [
    {
     "ename": "ModuleNotFoundError",
     "evalue": "No module named 'matplotlib'",
     "output_type": "error",
     "traceback": [
      "\u001b[1;31m---------------------------------------------------------------------------\u001b[0m",
      "\u001b[1;31mModuleNotFoundError\u001b[0m                       Traceback (most recent call last)",
      "Cell \u001b[1;32mIn[14], line 1\u001b[0m\n\u001b[1;32m----> 1\u001b[0m \u001b[38;5;28;01mfrom\u001b[39;00m \u001b[38;5;21;01mmatplotlib\u001b[39;00m \u001b[38;5;28;01mimport\u001b[39;00m pyplot \u001b[38;5;28;01mas\u001b[39;00m plt\n",
      "\u001b[1;31mModuleNotFoundError\u001b[0m: No module named 'matplotlib'"
     ]
    }
   ],
   "source": [
    "from matplotlib import pyplot as plt"
   ]
  },
  {
   "cell_type": "code",
   "execution_count": 8,
   "id": "5cd518df",
   "metadata": {},
   "outputs": [],
   "source": [
    "from skimage.color import rgb2gray"
   ]
  },
  {
   "cell_type": "code",
   "execution_count": 10,
   "id": "7c316c2a",
   "metadata": {},
   "outputs": [
    {
     "name": "stdout",
     "output_type": "stream",
     "text": [
      "None\n",
      "(370, 371)\n",
      "RGB\n"
     ]
    }
   ],
   "source": [
    "I = Image.open('test2d.png').convert('RGB')\n",
    "print(I.format)\n",
    "print(I.size)\n",
    "print(I.mode)"
   ]
  },
  {
   "cell_type": "code",
   "execution_count": 12,
   "id": "be71204c",
   "metadata": {},
   "outputs": [],
   "source": [
    "img = np.asarray(I)\n",
    "img_gray = rgb2gray(img)"
   ]
  },
  {
   "cell_type": "code",
   "execution_count": 13,
   "id": "5637134a",
   "metadata": {},
   "outputs": [],
   "source": [
    "img_bin = preprocessing.Binarizer(threshold=0.5).transform(img_gray)"
   ]
  },
  {
   "cell_type": "code",
   "execution_count": null,
   "id": "57fe23ec",
   "metadata": {},
   "outputs": [],
   "source": [
    "plt.imshow(data, interpolation='nearest')\n",
    "plt.show()"
   ]
  }
 ],
 "metadata": {
  "kernelspec": {
   "display_name": "Python 3 (ipykernel)",
   "language": "python",
   "name": "python3"
  },
  "language_info": {
   "codemirror_mode": {
    "name": "ipython",
    "version": 3
   },
   "file_extension": ".py",
   "mimetype": "text/x-python",
   "name": "python",
   "nbconvert_exporter": "python",
   "pygments_lexer": "ipython3",
   "version": "3.10.10"
  }
 },
 "nbformat": 4,
 "nbformat_minor": 5
}
