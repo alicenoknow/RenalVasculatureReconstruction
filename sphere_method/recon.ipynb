{
 "cells": [
  {
   "cell_type": "code",
   "execution_count": 13,
   "metadata": {},
   "outputs": [],
   "source": [
    "from vis_utils import VolumeVisualizer\n",
    "from identification import get_points_on_sphere"
   ]
  },
  {
   "cell_type": "code",
   "execution_count": 2,
   "metadata": {},
   "outputs": [],
   "source": [
    "import numpy as np\n",
    "import networkx as nx\n",
    "import pickle"
   ]
  },
  {
   "cell_type": "code",
   "execution_count": 3,
   "metadata": {},
   "outputs": [],
   "source": [
    "visualize_steps = True "
   ]
  },
  {
   "cell_type": "code",
   "execution_count": 4,
   "metadata": {},
   "outputs": [],
   "source": [
    "def visualize_mask_bin(mask):\n",
    "    VolumeVisualizer((mask > 0).astype(np.uint8), binary=True).visualize()\n",
    "    \n",
    "def visualize_mask_non_bin(mask):\n",
    "    VolumeVisualizer((mask > 0).astype(np.uint8) * 255, binary=False).visualize()"
   ]
  },
  {
   "cell_type": "code",
   "execution_count": 5,
   "metadata": {},
   "outputs": [],
   "source": [
    "def reconstruct_model(model_shape, graph: nx.Graph):\n",
    "    mask = np.zeros(model_shape, dtype=np.uint8)\n",
    "\n",
    "    for edge in graph.edges:\n",
    "        node1, node2 = edge\n",
    "        lw = graph.get_edge_data(node1, node2)['average_vessel_diameter'] \n",
    "        x1, y1, z1 = node1\n",
    "        x2, y2, z2 = node2\n",
    "        line_x = np.linspace(x1, x2, num=300, endpoint=True, dtype=np.int32)\n",
    "        line_y = np.linspace(y1, y2, num=300, endpoint=True, dtype=np.int32)\n",
    "        line_z = np.linspace(z1, z2, num=300, endpoint=True, dtype=np.int32)\n",
    "        for i in range(len(line_x)):\n",
    "            sphere_points = get_points_on_sphere((line_x[i], line_y[i], line_z[i]), lw)\n",
    "            for point in sphere_points:\n",
    "                px, py, pz = int(point[0]), int(point[1]), int(point[2])\n",
    "                mask[px, py, pz] = 1\n",
    "\n",
    "    for node in graph.nodes:\n",
    "        x, y, z = node\n",
    "        mask[x, y, z] = 1\n",
    "    return mask"
   ]
  },
  {
   "cell_type": "code",
   "execution_count": 6,
   "metadata": {},
   "outputs": [],
   "source": [
    "with open('clean_data_graph_full.pickle', 'rb') as file:\n",
    "    G = pickle.load(file)"
   ]
  },
  {
   "cell_type": "code",
   "execution_count": 7,
   "metadata": {},
   "outputs": [
    {
     "data": {
      "text/plain": [
       "<networkx.classes.graph.Graph at 0x7f47f70070a0>"
      ]
     },
     "execution_count": 7,
     "metadata": {},
     "output_type": "execute_result"
    }
   ],
   "source": [
    "G"
   ]
  },
  {
   "cell_type": "code",
   "execution_count": 9,
   "metadata": {},
   "outputs": [],
   "source": [
    "original_shape = (700, 500, 800) # zaladowac oryginalny obraz wyciagnac shape albo tylko shape wpisac\n",
    "mask = reconstruct_model(original_shape, G)"
   ]
  },
  {
   "cell_type": "code",
   "execution_count": 9,
   "metadata": {},
   "outputs": [],
   "source": [
    "np.save(\"graf_ciekawe_co_wyszlo.npy\", mask)"
   ]
  },
  {
   "cell_type": "code",
   "execution_count": 10,
   "metadata": {},
   "outputs": [],
   "source": [
    "# mask = np.load(\"graf_ciekawe_co_wyszlo.npy\")"
   ]
  },
  {
   "cell_type": "code",
   "execution_count": 11,
   "metadata": {},
   "outputs": [],
   "source": [
    "visualize_mask_bin(mask)"
   ]
  },
  {
   "cell_type": "code",
   "execution_count": 12,
   "metadata": {},
   "outputs": [],
   "source": [
    "visualize_mask_non_bin(mask)"
   ]
  }
 ],
 "metadata": {
  "kernelspec": {
   "display_name": "Python 3",
   "language": "python",
   "name": "python3"
  },
  "language_info": {
   "codemirror_mode": {
    "name": "ipython",
    "version": 3
   },
   "file_extension": ".py",
   "mimetype": "text/x-python",
   "name": "python",
   "nbconvert_exporter": "python",
   "pygments_lexer": "ipython3",
   "version": "3.10.6"
  },
  "orig_nbformat": 4
 },
 "nbformat": 4,
 "nbformat_minor": 2
}
