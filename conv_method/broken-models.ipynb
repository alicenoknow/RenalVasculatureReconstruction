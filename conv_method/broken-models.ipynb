{
 "cells": [
  {
   "cell_type": "code",
   "execution_count": 6,
   "metadata": {},
   "outputs": [],
   "source": [
    "import numpy as np\n",
    "from stl import mesh # pip install numpy-stl\n",
    "from vis_utils import VolumeVisualizer, ColorMapVisualizer"
   ]
  },
  {
   "cell_type": "code",
   "execution_count": 7,
   "metadata": {},
   "outputs": [],
   "source": [
    "def visualize_mask_bin(mask):\n",
    "    VolumeVisualizer((mask > 0).astype(np.uint8), binary=True).visualize()\n",
    "    \n",
    "def visualize_mask_non_bin(mask):\n",
    "    VolumeVisualizer((mask > 0).astype(np.uint8) * 255, binary=False).visualize()\n",
    "    "
   ]
  },
  {
   "cell_type": "code",
   "execution_count": 3,
   "metadata": {},
   "outputs": [],
   "source": [
    "my_mesh = mesh.Mesh.from_file('../data/models/15_length_r_09_branching_angle_35_diameter_r_07735_iters_9_Rescaled(10).stl')"
   ]
  },
  {
   "cell_type": "code",
   "execution_count": 4,
   "metadata": {},
   "outputs": [],
   "source": [
    "x_min, y_min, z_min = my_mesh.min_\n",
    "x_max, y_max, z_max = my_mesh.max_\n",
    "x_dim, y_dim, z_dim = int(x_max - x_min + 1), int(y_max - y_min + 1), int(z_max - z_min + 1)\n",
    "\n",
    "image = np.zeros((x_dim, y_dim, z_dim), dtype=np.uint8)\n",
    "\n",
    "for triangle in my_mesh.vectors:\n",
    "    x, y, z = np.transpose(triangle)\n",
    "    x -= x_min\n",
    "    y -= y_min\n",
    "    z -= z_min\n",
    "    indices = np.vstack((x, y, z)).T.astype(int)\n",
    "    image[tuple(indices[:, [0, 1, 2]].T)] = 1\n"
   ]
  },
  {
   "cell_type": "code",
   "execution_count": 8,
   "metadata": {},
   "outputs": [],
   "source": [
    "visualize_mask_non_bin(image)"
   ]
  }
 ],
 "metadata": {
  "kernelspec": {
   "display_name": "Python 3",
   "language": "python",
   "name": "python3"
  },
  "language_info": {
   "codemirror_mode": {
    "name": "ipython",
    "version": 3
   },
   "file_extension": ".py",
   "mimetype": "text/x-python",
   "name": "python",
   "nbconvert_exporter": "python",
   "pygments_lexer": "ipython3",
   "version": "3.10.6"
  },
  "orig_nbformat": 4
 },
 "nbformat": 4,
 "nbformat_minor": 2
}
