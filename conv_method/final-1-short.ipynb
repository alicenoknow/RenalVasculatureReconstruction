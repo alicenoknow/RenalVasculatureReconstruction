{
 "cells": [
  {
   "cell_type": "code",
   "execution_count": 1,
   "metadata": {},
   "outputs": [],
   "source": [
    "import numpy as np\n",
    "import glob\n",
    "import matplotlib.pyplot as plt\n",
    "import pickle\n",
    "from skimage import measure, segmentation, feature\n",
    "from vis_utils import load_volume, VolumeVisualizer, ColorMapVisualizer\n",
    "from scipy.ndimage import zoom\n",
    "from scipy.signal import fftconvolve\n",
    "from skimage.morphology import skeletonize_3d, binary_dilation, convex_hull_image\n",
    "from skimage import filters, morphology\n",
    "from scipy import signal\n",
    "from skimage.filters import frangi, sato\n",
    "from PIL import Image\n",
    "from tqdm import tqdm\n",
    "\n",
    "from scipy.ndimage import zoom"
   ]
  },
  {
   "cell_type": "code",
   "execution_count": 2,
   "metadata": {},
   "outputs": [],
   "source": [
    "TREE_NAME = 'P13'"
   ]
  },
  {
   "attachments": {},
   "cell_type": "markdown",
   "metadata": {},
   "source": [
    "## Loading specimen volume"
   ]
  },
  {
   "cell_type": "code",
   "execution_count": 4,
   "metadata": {
    "scrolled": true
   },
   "outputs": [
    {
     "data": {
      "text/plain": [
       "{}"
      ]
     },
     "execution_count": 4,
     "metadata": {},
     "output_type": "execute_result"
    }
   ],
   "source": [
    "source_dir = './data'\n",
    "files = {path.split('\\\\')[1]: path for path in sorted(glob.glob(source_dir + '*/*.mhd') + sorted(glob.glob(source_dir + '*/*.raw')))}\n",
    "files"
   ]
  },
  {
   "cell_type": "code",
   "execution_count": 3,
   "metadata": {},
   "outputs": [
    {
     "ename": "RuntimeError",
     "evalue": "Exception thrown in SimpleITK ImageFileReader_Execute: /tmp/SimpleITK/Code/IO/src/sitkImageReaderBase.cxx:97:\nsitk::ERROR: The file \"../data/P13/data.mhd\" does not exist.",
     "output_type": "error",
     "traceback": [
      "\u001b[0;31m---------------------------------------------------------------------------\u001b[0m",
      "\u001b[0;31mRuntimeError\u001b[0m                              Traceback (most recent call last)",
      "File \u001b[0;32m<timed exec>:2\u001b[0m\n",
      "File \u001b[0;32m~/Univ/medyczna/projekt/RenalVasculatureReconstruction/conv_method/vis_utils.py:27\u001b[0m, in \u001b[0;36mload_volume\u001b[0;34m(file, scale)\u001b[0m\n\u001b[1;32m     25\u001b[0m     arr \u001b[39m=\u001b[39m raw_arr\u001b[39m.\u001b[39mreshape(volume_dims)\n\u001b[1;32m     26\u001b[0m \u001b[39melse\u001b[39;00m:\n\u001b[0;32m---> 27\u001b[0m     arr \u001b[39m=\u001b[39m read_file_with_no_dims(file)\n\u001b[1;32m     29\u001b[0m \u001b[39mif\u001b[39;00m scale \u001b[39mis\u001b[39;00m \u001b[39mnot\u001b[39;00m \u001b[39mNone\u001b[39;00m:\n\u001b[1;32m     30\u001b[0m     arr \u001b[39m=\u001b[39m zoom(arr, scale, order\u001b[39m=\u001b[39m\u001b[39m0\u001b[39m)\n",
      "File \u001b[0;32m~/Univ/medyczna/projekt/RenalVasculatureReconstruction/conv_method/vis_utils.py:9\u001b[0m, in \u001b[0;36mread_file_with_no_dims\u001b[0;34m(file)\u001b[0m\n\u001b[1;32m      8\u001b[0m \u001b[39mdef\u001b[39;00m \u001b[39mread_file_with_no_dims\u001b[39m(file):\n\u001b[0;32m----> 9\u001b[0m     itkimage \u001b[39m=\u001b[39m sitk\u001b[39m.\u001b[39;49mReadImage(file[:\u001b[39m-\u001b[39;49m\u001b[39m4\u001b[39;49m] \u001b[39m+\u001b[39;49m \u001b[39m'\u001b[39;49m\u001b[39m.mhd\u001b[39;49m\u001b[39m'\u001b[39;49m)\n\u001b[1;32m     10\u001b[0m     ct_scan \u001b[39m=\u001b[39m sitk\u001b[39m.\u001b[39mGetArrayFromImage(itkimage)\n\u001b[1;32m     11\u001b[0m     spacing \u001b[39m=\u001b[39m np\u001b[39m.\u001b[39marray(\u001b[39mlist\u001b[39m(\u001b[39mreversed\u001b[39m(itkimage\u001b[39m.\u001b[39mGetSpacing())))\n",
      "File \u001b[0;32m~/.local/lib/python3.10/site-packages/SimpleITK/extra.py:355\u001b[0m, in \u001b[0;36mReadImage\u001b[0;34m(fileName, outputPixelType, imageIO)\u001b[0m\n\u001b[1;32m    353\u001b[0m reader\u001b[39m.\u001b[39mSetImageIO(imageIO)\n\u001b[1;32m    354\u001b[0m reader\u001b[39m.\u001b[39mSetOutputPixelType(outputPixelType)\n\u001b[0;32m--> 355\u001b[0m \u001b[39mreturn\u001b[39;00m reader\u001b[39m.\u001b[39;49mExecute()\n",
      "File \u001b[0;32m~/.local/lib/python3.10/site-packages/SimpleITK/SimpleITK.py:8438\u001b[0m, in \u001b[0;36mImageFileReader.Execute\u001b[0;34m(self)\u001b[0m\n\u001b[1;32m   8425\u001b[0m \u001b[39mdef\u001b[39;00m \u001b[39mExecute\u001b[39m(\u001b[39mself\u001b[39m):\n\u001b[1;32m   8426\u001b[0m \u001b[39m    \u001b[39m\u001b[39mr\u001b[39m\u001b[39m\"\"\"\u001b[39;00m\n\u001b[1;32m   8427\u001b[0m \u001b[39m    Execute(ImageFileReader self) -> Image\u001b[39;00m\n\u001b[1;32m   8428\u001b[0m \n\u001b[0;32m   (...)\u001b[0m\n\u001b[1;32m   8436\u001b[0m \n\u001b[1;32m   8437\u001b[0m \u001b[39m    \"\"\"\u001b[39;00m\n\u001b[0;32m-> 8438\u001b[0m     \u001b[39mreturn\u001b[39;00m _SimpleITK\u001b[39m.\u001b[39;49mImageFileReader_Execute(\u001b[39mself\u001b[39;49m)\n",
      "\u001b[0;31mRuntimeError\u001b[0m: Exception thrown in SimpleITK ImageFileReader_Execute: /tmp/SimpleITK/Code/IO/src/sitkImageReaderBase.cxx:97:\nsitk::ERROR: The file \"../data/P13/data.mhd\" does not exist."
     ]
    }
   ],
   "source": [
    "%%time\n",
    "#volume = load_volume(files[TREE_NAME])\n",
    "volume = load_volume('../data/P13/data.raw')\n",
    "print(volume.shape)\n",
    "# VolumeVisualizer(volume, binary=False).visualize()"
   ]
  },
  {
   "cell_type": "code",
   "execution_count": 5,
   "metadata": {},
   "outputs": [],
   "source": [
    "# good_names = list({\n",
    "#     'P01': 21,    'P02': 28,    'P03': 160,    'P04': 30,\n",
    "#     'P05': 24,    'P06': 22,    'P07': 100,    'P09': 70,\n",
    "#     'P10': 50,    'P11': 50,    'P12': 74,    'P13': 45,\n",
    "#     'P14': 42,    'P15': 95,    'P16': 25,    'P17': 80,\n",
    "#     'P18': 85,    'P19': 50,    'P20': 95,    'P21': 45,\n",
    "#     'P23': 60,    'P24': 80,    'P25': 70,    'P26': 130,\n",
    "#     'P27': 70,    'P28': 25,    'P30': 80,    'P31': 50,\n",
    "#     'P32': 48,    'P33': 65,}.keys())\n",
    "# # good_names"
   ]
  },
  {
   "cell_type": "code",
   "execution_count": 6,
   "metadata": {},
   "outputs": [],
   "source": [
    " reko = np.load('reconstruction.npy')"
   ]
  },
  {
   "cell_type": "code",
   "execution_count": 6,
   "metadata": {},
   "outputs": [],
   "source": [
    "# for name in good_names:\n",
    "# #     reko = np.load(source_dir + name + '/reconstruction.npy')\n",
    "# #     central_line = np.load(source_dir + name + '/central-line.npy')\n",
    "#     print(name)\n",
    "#     volume = load_volume(files[name])\n",
    "#     mask = volume > thresholds[name]\n",
    "#     # volume = None\n",
    "#     visualize_mask_bin(mask)"
   ]
  },
  {
   "cell_type": "code",
   "execution_count": 5,
   "metadata": {},
   "outputs": [],
   "source": [
    "if files[TREE_NAME][-3:] == \"mhd\":\n",
    "    v2 = 255 * (volume.astype(np.float64) / volume.max())\n",
    "    v2 = v2.astype(np.uint8)\n",
    "    VolumeVisualizer(v2, binary=False).visualize() \n",
    "    v2.shape\n",
    "    v2.tofile(files[TREE_NAME][:-4] + f'_60um_{v2.shape[2]}x{v2.shape[1]}x{v2.shape[0]}.raw')"
   ]
  },
  {
   "cell_type": "code",
   "execution_count": 3,
   "metadata": {},
   "outputs": [],
   "source": [
    "v2 = np.fromfile('../data/P13/data.raw', dtype=np.uint8)"
   ]
  },
  {
   "cell_type": "code",
   "execution_count": null,
   "metadata": {},
   "outputs": [],
   "source": []
  },
  {
   "cell_type": "code",
   "execution_count": 4,
   "metadata": {},
   "outputs": [
    {
     "data": {
      "text/plain": [
       "(484468832,)"
      ]
     },
     "execution_count": 4,
     "metadata": {},
     "output_type": "execute_result"
    }
   ],
   "source": [
    "v2.shape"
   ]
  },
  {
   "cell_type": "code",
   "execution_count": 5,
   "metadata": {},
   "outputs": [],
   "source": [
    "v2 = v2.reshape( 877,  488, 1132,)"
   ]
  },
  {
   "cell_type": "code",
   "execution_count": 6,
   "metadata": {},
   "outputs": [],
   "source": [
    "v2 = v2[200:700, :, 100:650]\n",
    "val = 20\n",
    "\n",
    "v2[:, 200:, -35:] = val\n",
    "v2[-150:, 200:, -100:-35] = val\n",
    "v2[:, -200:-150, -100:-35] = val\n",
    "v2[:, :210, -50:] = val\n",
    "v2[:150, :150, -85:-50] = val\n",
    "\n",
    "v2 = v2[-170:-40,200:480,30:260]\n",
    "v2[-90:, :, -110:] = val\n",
    "v2[:, -80:, -92:] = val"
   ]
  },
  {
   "cell_type": "code",
   "execution_count": 7,
   "metadata": {},
   "outputs": [
    {
     "data": {
      "text/plain": [
       "(130, 280, 230)"
      ]
     },
     "execution_count": 7,
     "metadata": {},
     "output_type": "execute_result"
    }
   ],
   "source": [
    "v2.shape"
   ]
  },
  {
   "cell_type": "code",
   "execution_count": 7,
   "metadata": {},
   "outputs": [],
   "source": [
    "VolumeVisualizer(v2, binary=False).visualize() "
   ]
  },
  {
   "attachments": {},
   "cell_type": "markdown",
   "metadata": {},
   "source": [
    "## Utility visualisation functions"
   ]
  },
  {
   "cell_type": "code",
   "execution_count": 8,
   "metadata": {},
   "outputs": [],
   "source": [
    "def visualize_addition(base, base_with_addition):\n",
    "    base = (base.copy() > 0).astype(np.uint8)\n",
    "    addition = (base_with_addition > 0).astype(np.uint8)\n",
    "    addition[base == 1] = 0\n",
    "    ColorMapVisualizer(base + addition * 4).visualize()\n",
    "    \n",
    "def visualize_lsd(lsd_mask):\n",
    "    ColorMapVisualizer(lsd_mask.astype(np.uint8)).visualize()\n",
    "    \n",
    "def visualize_gradient(lsd_mask):\n",
    "    ColorMapVisualizer(lsd_mask.astype(np.uint8)).visualize(gradient=True)\n",
    "    \n",
    "def visualize_mask_bin(mask):\n",
    "    VolumeVisualizer((mask > 0).astype(np.uint8), binary=True).visualize()\n",
    "    \n",
    "def visualize_mask_non_bin(mask):\n",
    "    VolumeVisualizer((mask > 0).astype(np.uint8) * 255, binary=False).visualize()\n",
    "    \n",
    "def visualize_skeleton(mask, visualize_mask=True, visualize_both_versions=False):\n",
    "    skeleton = skeletonize_3d((mask > 0).astype(np.uint8))\n",
    "    if not visualize_mask or visualize_both_versions:\n",
    "        VolumeVisualizer(skeleton, binary=True).visualize()\n",
    "    if visualize_mask or visualize_both_versions:\n",
    "        skeleton = skeleton.astype(np.uint8) * 4\n",
    "        mask = (mask > 0).astype(np.uint8) * 3\n",
    "        mask[skeleton != 0] = 0\n",
    "        ColorMapVisualizer(skeleton + mask).visualize()\n",
    "\n",
    "def visualize_ultimate(lsd, base_mask):\n",
    "    visualize_lsd(lsd)\n",
    "    visualize_mask_non_bin(lsd)\n",
    "    visualize_addition(base_mask, lsd)\n",
    "    visualize_skeleton(lsd, visualize_mask=True)"
   ]
  },
  {
   "attachments": {},
   "cell_type": "markdown",
   "metadata": {},
   "source": [
    "## Thresholding volume to get binary mask"
   ]
  },
  {
   "cell_type": "code",
   "execution_count": 21,
   "metadata": {},
   "outputs": [],
   "source": [
    "VolumeVisualizer(volume, binary=False).visualize() "
   ]
  },
  {
   "cell_type": "code",
   "execution_count": 9,
   "metadata": {},
   "outputs": [],
   "source": [
    "thresholds = {\n",
    "    'P01': 21,\n",
    "    'P02': 28,\n",
    "    'P03': 160,\n",
    "    'P04': 30,\n",
    "    'P05': 24,\n",
    "    'P06': 22,\n",
    "    'P07': 100,\n",
    "    'P08': 38,#\"Not usable\",\n",
    "    'P09': 70,\n",
    "    'P10': 50,\n",
    "    'P11': 50,\n",
    "    'P12': 74,\n",
    "    'P13': 45,\n",
    "    'P14': 42,\n",
    "    'P15': 95,\n",
    "    'P16': 25,\n",
    "    'P17': 80,\n",
    "    'P18': 85,\n",
    "    'P19': 50,\n",
    "    'P20': 95,\n",
    "    'P21': 45,\n",
    "    'P22': 40,#\"Weird artefact\",\n",
    "    'P23': 60,\n",
    "    'P24': 80,\n",
    "    'P25': 70,\n",
    "    'P26': 130,\n",
    "    'P27': 70,\n",
    "    'P28': 25,\n",
    "    \n",
    "    'P29': 120, #TODO for now seems unusable, too clutered\n",
    "    'P30': 80,\n",
    "    'P31': 50,\n",
    "    'P32': 48,\n",
    "    'P33': 65,\n",
    "}\n",
    "\n",
    "mask = v2 > thresholds[TREE_NAME]\n",
    "# volume = None\n",
    "visualize_mask_bin(mask)"
   ]
  },
  {
   "cell_type": "code",
   "execution_count": 22,
   "metadata": {},
   "outputs": [],
   "source": [
    "visualize_mask_bin(mask[:-40, :, :])"
   ]
  },
  {
   "cell_type": "code",
   "execution_count": 21,
   "metadata": {},
   "outputs": [],
   "source": [
    "visualize_mask_non_bin(mask)"
   ]
  },
  {
   "cell_type": "code",
   "execution_count": 13,
   "metadata": {},
   "outputs": [
    {
     "name": "stdout",
     "output_type": "stream",
     "text": [
      "CPU times: user 361 ms, sys: 12.6 ms, total: 374 ms\n",
      "Wall time: 538 ms\n"
     ]
    }
   ],
   "source": [
    "%%time\n",
    "skeleton = (skeletonize_3d(mask) > 0).astype(np.uint8)"
   ]
  },
  {
   "cell_type": "code",
   "execution_count": 14,
   "metadata": {},
   "outputs": [],
   "source": [
    "visualize_mask_bin(skeleton)"
   ]
  },
  {
   "attachments": {},
   "cell_type": "markdown",
   "metadata": {},
   "source": [
    "## Extracting main region "
   ]
  },
  {
   "cell_type": "code",
   "execution_count": 10,
   "metadata": {},
   "outputs": [],
   "source": [
    "def get_main_regions(binary_mask, min_size=10_000, connectivity=3):\n",
    "    labeled = measure.label(binary_mask, connectivity=connectivity)\n",
    "    region_props = measure.regionprops(labeled)\n",
    "    \n",
    "    main_regions = np.zeros(binary_mask.shape)\n",
    "    bounding_boxes = []\n",
    "    for props in region_props:\n",
    "        if props.area >= min_size:\n",
    "            bounding_boxes.append(props.bbox)\n",
    "            main_regions = np.logical_or(main_regions, labeled==props.label)\n",
    "            \n",
    "    lower_bounds = np.min(bounding_boxes, axis=0)[:3]\n",
    "    upper_bounds = np.max(bounding_boxes, axis=0)[3:]\n",
    "\n",
    "    return main_regions[\n",
    "        lower_bounds[0]:upper_bounds[0],\n",
    "        lower_bounds[1]:upper_bounds[1],\n",
    "        lower_bounds[2]:upper_bounds[2],\n",
    "    ], bounding_boxes"
   ]
  },
  {
   "cell_type": "code",
   "execution_count": 11,
   "metadata": {},
   "outputs": [
    {
     "name": "stdout",
     "output_type": "stream",
     "text": [
      "number of main regions: 1\n"
     ]
    }
   ],
   "source": [
    "main_region_min_size = {\n",
    "    'P01': 30_000,\n",
    "    'P03': 50_000,\n",
    "    'P07': 300_000,\n",
    "    'P17': 300_000,\n",
    "\n",
    "}\n",
    "\n",
    "main_regions, bounding_boxes = get_main_regions(mask, min_size=main_region_min_size.get(TREE_NAME, 20_000))\n",
    "print('number of main regions:', len(bounding_boxes))\n",
    "mask_main = main_regions\n",
    "# mask = None\n",
    "visualize_mask_non_bin(mask_main)"
   ]
  },
  {
   "cell_type": "code",
   "execution_count": 25,
   "metadata": {},
   "outputs": [],
   "source": [
    "visualize_mask_non_bin(mask_main[:-70, :, :])"
   ]
  },
  {
   "cell_type": "code",
   "execution_count": null,
   "metadata": {},
   "outputs": [],
   "source": []
  },
  {
   "attachments": {},
   "cell_type": "markdown",
   "metadata": {},
   "source": [
    "# Creating reconstruction using resolution scaling"
   ]
  },
  {
   "cell_type": "code",
   "execution_count": 12,
   "metadata": {},
   "outputs": [],
   "source": [
    "def f(mask, scale, order=0):\n",
    "    return zoom(mask, scale, order=order)\n",
    "    \n",
    "def verify_mask(mask):\n",
    "    regions_count = np.max(measure.label(mask, connectivity=3))\n",
    "    print(\"one-piece mask\" if regions_count == 1 else f\"scattered mask, number of regions: {regions_count}\")"
   ]
  },
  {
   "attachments": {},
   "cell_type": "markdown",
   "metadata": {},
   "source": [
    "### Creating reconstruction of scaled tree"
   ]
  },
  {
   "cell_type": "code",
   "execution_count": 27,
   "metadata": {},
   "outputs": [
    {
     "ename": "NameError",
     "evalue": "name 'files' is not defined",
     "output_type": "error",
     "traceback": [
      "\u001b[0;31m---------------------------------------------------------------------------\u001b[0m",
      "\u001b[0;31mNameError\u001b[0m                                 Traceback (most recent call last)",
      "File \u001b[0;32m<timed exec>:17\u001b[0m\n",
      "\u001b[0;31mNameError\u001b[0m: name 'files' is not defined"
     ]
    }
   ],
   "source": [
    "%%time\n",
    "scales = {\n",
    "    'P01': 0.5,\n",
    "    'P02': 0.7,\n",
    "    'P06': 0.8,\n",
    "    'P09': 0.8,\n",
    "    'P11': 0.7,\n",
    "    'P13': 0.8,\n",
    "    'P17': 0.8,\n",
    "    'P27': 0.8,\n",
    "    'P28': 0.8\n",
    "}\n",
    "s_main_region_min_size = {\n",
    "    'P01': 10_000,\n",
    "    'P17': 50_000,\n",
    "}\n",
    "\n",
    "s_volume = load_volume(files[TREE_NAME], scale=scales.get(TREE_NAME, 0.5))\n",
    "print('scaled volume shape', s_volume.shape)\n",
    "s_mask = s_volume > thresholds[TREE_NAME]\n",
    "s_volume = None\n",
    "s_main_regions, s_bounding_boxes = get_main_regions(s_mask, min_size=s_main_region_min_size.get(TREE_NAME, 10_000))\n",
    "print('number of s main regions:', len(s_bounding_boxes))\n",
    "s_mask_main = s_main_regions\n",
    "s_mask = None\n",
    "s_main_regions = None\n",
    "verify_mask(s_mask_main)"
   ]
  },
  {
   "cell_type": "code",
   "execution_count": 23,
   "metadata": {},
   "outputs": [],
   "source": [
    "visualize_mask_non_bin(s_mask_main)"
   ]
  },
  {
   "cell_type": "code",
   "execution_count": 13,
   "metadata": {},
   "outputs": [],
   "source": [
    "def spherical_kernel(outer_radius, thickness=1, filled=True):    \n",
    "    outer_sphere = morphology.ball(radius=outer_radius)\n",
    "    if filled:\n",
    "        return outer_sphere\n",
    "    \n",
    "    thickness = min(thickness, outer_radius)\n",
    "    \n",
    "    inner_radius = outer_radius - thickness\n",
    "    inner_sphere = morphology.ball(radius=inner_radius)\n",
    "    \n",
    "    begin = outer_radius - inner_radius\n",
    "    end = begin + inner_sphere.shape[0]\n",
    "    outer_sphere[begin:end, begin:end, begin:end] -= inner_sphere\n",
    "    return outer_sphere\n",
    "\n",
    "def convolve_with_ball(img, ball_radius, dtype=np.uint16, normalize=True, fft=True):\n",
    "    kernel = spherical_kernel(ball_radius, filled=True)\n",
    "    if fft:\n",
    "        convolved = fftconvolve(img.astype(dtype), kernel.astype(dtype), mode='same')\n",
    "    else:\n",
    "        convolved = signal.convolve(img.astype(dtype), kernel.astype(dtype), mode='same')\n",
    "    \n",
    "    if not normalize:\n",
    "        return convolved\n",
    "    \n",
    "    return (convolved / kernel.sum()).astype(np.float16)\n",
    "\n",
    "def calculate_reconstruction(mask, kernel_sizes=[10, 9, 8], fill_threshold=0.5, iters=1, conv_dtype=np.uint16, fft=True):\n",
    "    kernel_sizes_maps = []\n",
    "    mask = mask.astype(np.uint8)\n",
    "    \n",
    "    for i in range(iters):\n",
    "        kernel_size_map = np.zeros(mask.shape, dtype=np.uint8)\n",
    "\n",
    "        for kernel_size in kernel_sizes:\n",
    "            fill_percentage = convolve_with_ball(mask, kernel_size, dtype=conv_dtype, normalize=True, fft=fft)\n",
    "            \n",
    "            above_threshold_fill_indices = fill_percentage > fill_threshold\n",
    "            kernel_size_map[above_threshold_fill_indices] = kernel_size + 1\n",
    "\n",
    "            mask[above_threshold_fill_indices] = 1\n",
    "            \n",
    "            print(f'Iteration {i + 1} kernel {kernel_size} done')\n",
    "\n",
    "        kernel_sizes_maps.append(kernel_size_map)\n",
    "        print(f'Iteration {i + 1} ended successfully')\n",
    "\n",
    "    return kernel_sizes_maps"
   ]
  },
  {
   "cell_type": "code",
   "execution_count": null,
   "metadata": {},
   "outputs": [],
   "source": [
    "#PSEUDO\n",
    "def calculate_reconstruction(volume, iterations):\n",
    "    reconstructed_volume = volume.copy()\n",
    "    for i in range(iterations):\n",
    "        for kernel_radius in range(1, 26):\n",
    "            fill_percentage = convolve_with_ball(volume, kernel_radius)\n",
    "            above_fill_threshold_mask = fill_percentage > 0.5\n",
    "            reconstructed_volume[above_fill_threshold_mask] = 1\n",
    "    return reconstructed_volume"
   ]
  },
  {
   "cell_type": "code",
   "execution_count": 14,
   "metadata": {
    "scrolled": true
   },
   "outputs": [
    {
     "name": "stdout",
     "output_type": "stream",
     "text": [
      "Iteration 1 kernel 0 done\n",
      "Iteration 1 kernel 1 done\n",
      "Iteration 1 kernel 2 done\n",
      "Iteration 1 kernel 3 done\n",
      "Iteration 1 kernel 4 done\n",
      "Iteration 1 kernel 5 done\n",
      "Iteration 1 kernel 6 done\n",
      "Iteration 1 kernel 7 done\n",
      "Iteration 1 kernel 8 done\n",
      "Iteration 1 kernel 9 done\n",
      "Iteration 1 kernel 10 done\n",
      "Iteration 1 kernel 11 done\n",
      "Iteration 1 kernel 12 done\n",
      "Iteration 1 kernel 13 done\n",
      "Iteration 1 kernel 14 done\n",
      "Iteration 1 kernel 15 done\n",
      "Iteration 1 ended successfully\n",
      "Iteration 2 kernel 0 done\n",
      "Iteration 2 kernel 1 done\n",
      "Iteration 2 kernel 2 done\n",
      "Iteration 2 kernel 3 done\n",
      "Iteration 2 kernel 4 done\n",
      "Iteration 2 kernel 5 done\n",
      "Iteration 2 kernel 6 done\n",
      "Iteration 2 kernel 7 done\n",
      "Iteration 2 kernel 8 done\n",
      "Iteration 2 kernel 9 done\n",
      "Iteration 2 kernel 10 done\n",
      "Iteration 2 kernel 11 done\n",
      "Iteration 2 kernel 12 done\n",
      "Iteration 2 kernel 13 done\n",
      "Iteration 2 kernel 14 done\n",
      "Iteration 2 kernel 15 done\n",
      "Iteration 2 ended successfully\n",
      "Iteration 3 kernel 0 done\n",
      "Iteration 3 kernel 1 done\n",
      "Iteration 3 kernel 2 done\n",
      "Iteration 3 kernel 3 done\n",
      "Iteration 3 kernel 4 done\n",
      "Iteration 3 kernel 5 done\n",
      "Iteration 3 kernel 6 done\n",
      "Iteration 3 kernel 7 done\n",
      "Iteration 3 kernel 8 done\n",
      "Iteration 3 kernel 9 done\n",
      "Iteration 3 kernel 10 done\n",
      "Iteration 3 kernel 11 done\n",
      "Iteration 3 kernel 12 done\n",
      "Iteration 3 kernel 13 done\n",
      "Iteration 3 kernel 14 done\n",
      "Iteration 3 kernel 15 done\n",
      "Iteration 3 ended successfully\n",
      "CPU times: user 24.4 s, sys: 3.96 s, total: 28.3 s\n",
      "Wall time: 28.4 s\n"
     ]
    }
   ],
   "source": [
    "%%time\n",
    "\n",
    "s_kernel_sizes = {\n",
    "    'P01': range(0, 14),\n",
    "    'P02': range(0, 14),\n",
    "#     'P03': range(0, 13),\n",
    "#     'P04': range(0, 13),\n",
    "#     'P05': range(0, 13),\n",
    "#     'P06': range(0, 13),\n",
    "    'P07': range(0, 14),\n",
    "    'P09': range(0, 12),\n",
    "    'P10': range(0, 12),\n",
    "#     'P11': range(0, 13),\n",
    "#     'P12': range(0, 13),\n",
    "    'P13': range(0, 16),\n",
    "#     'P14': range(0, 13),\n",
    "    'P15': range(0, 14),\n",
    "#     'P16': range(0, 13),\n",
    "    'P17': range(0, 14),\n",
    "#     'P18': range(0, 13),\n",
    "    'P19': range(0, 12),\n",
    "#     'P20': range(0, 13),\n",
    "    'P21': range(0, 12),\n",
    "    'P23': range(0, 14),\n",
    "#     'P24': range(0, 13),\n",
    "#     'P25': range(0, 13),\n",
    "#     'P26': range(0, 13),\n",
    "#     'P27': range(0, 13)\n",
    "    'P28': range(0, 14),\n",
    "}\n",
    "\n",
    "s_number_of_iterations = {\n",
    "    'P01': 7,\n",
    "    'P02': 1,\n",
    "    'P03': 10,\n",
    "    'P04': 2,\n",
    "    'P05': 3,\n",
    "    'P06': 5,\n",
    "    'P07': 4,\n",
    "    'P09': 6,\n",
    "    'P10': 5,\n",
    "    'P11': 4, \n",
    "    'P12': 3,\n",
    "    'P13': 3,\n",
    "    'P14': 2,\n",
    "    'P15': 3,\n",
    "    'P16': 5,\n",
    "    'P17': 10,\n",
    "    'P18': 4,\n",
    "    'P19': 2,\n",
    "    'P20': 1,\n",
    "    'P21': 3,\n",
    "    'P23': 5,\n",
    "    'P24': 2,\n",
    "    'P25': 6,\n",
    "    'P26': 6,\n",
    "    'P27': 1,\n",
    "    'P28': 1,\n",
    "    'P30': 1,\n",
    "    'P31': 3,\n",
    "    'P32': 3,\n",
    "    'P33': 3,\n",
    "}\n",
    "\n",
    "s_recos = calculate_reconstruction(mask_main, \n",
    "                                   kernel_sizes=s_kernel_sizes.get(TREE_NAME, range(0, 13)), \n",
    "                                   iters=s_number_of_iterations.get(TREE_NAME, 3))"
   ]
  },
  {
   "cell_type": "code",
   "execution_count": 15,
   "metadata": {},
   "outputs": [],
   "source": [
    "visualize_mask_non_bin(s_recos[-1])"
   ]
  },
  {
   "cell_type": "code",
   "execution_count": 26,
   "metadata": {},
   "outputs": [],
   "source": [
    "# s_recos = np.load(source_dir + TREE_NAME + '/scaled_recos.npy')"
   ]
  },
  {
   "cell_type": "code",
   "execution_count": 19,
   "metadata": {},
   "outputs": [
    {
     "data": {
      "text/plain": [
       "(3.0, 0.0)"
      ]
     },
     "execution_count": 19,
     "metadata": {},
     "output_type": "execute_result"
    },
    {
     "data": {
      "image/png": "[encoded data removed]",
      "text/plain": [
       "<Figure size 640x480 with 1 Axes>"
      ]
     },
     "metadata": {},
     "output_type": "display_data"
    }
   ],
   "source": [
    "import numpy as np\n",
    "from mpl_toolkits.mplot3d import Axes3D\n",
    "import matplotlib.pyplot as plt\n",
    "\n",
    "data = np.load('reconstruction.npy')\n",
    "\n",
    "fig = plt.figure()\n",
    "ax = fig.add_subplot(111, projection='3d')\n",
    "\n",
    "\n",
    "max_range = np.array([data.max(axis=0), data.min(axis=0)]).max(axis=0)\n",
    "ax.set_xlim(max(max_range[0]), max(max_range[1]))\n",
    "ax.set_ylim(max(max_range[1]), max(max_range[0]))\n",
    "ax.set_zlim(max(max_range[2]), max(max_range[0]))"
   ]
  },
  {
   "cell_type": "code",
   "execution_count": 16,
   "metadata": {},
   "outputs": [],
   "source": [
    "s_reco = s_recos[-1] > 0"
   ]
  },
  {
   "cell_type": "code",
   "execution_count": null,
   "metadata": {},
   "outputs": [],
   "source": []
  },
  {
   "cell_type": "code",
   "execution_count": 21,
   "metadata": {},
   "outputs": [],
   "source": [
    "np.save('../data/P13/reco', np.array(s_reco))\n",
    "# s_recos = np.load(source_dir + TREE_NAME + '/scaled_recos.npy')"
   ]
  },
  {
   "cell_type": "code",
   "execution_count": 22,
   "metadata": {},
   "outputs": [],
   "source": [
    "np.save('../data/P13/original', np.array(mask_main))"
   ]
  },
  {
   "cell_type": "code",
   "execution_count": 42,
   "metadata": {},
   "outputs": [],
   "source": []
  },
  {
   "attachments": {},
   "cell_type": "markdown",
   "metadata": {},
   "source": [
    "### Scaled reco verification"
   ]
  },
  {
   "cell_type": "code",
   "execution_count": 43,
   "metadata": {},
   "outputs": [
    {
     "ename": "NameError",
     "evalue": "name 'reko' is not defined",
     "output_type": "error",
     "traceback": [
      "\u001b[0;31m---------------------------------------------------------------------------\u001b[0m",
      "\u001b[0;31mNameError\u001b[0m                                 Traceback (most recent call last)",
      "Cell \u001b[0;32mIn[43], line 1\u001b[0m\n\u001b[0;32m----> 1\u001b[0m visualize_mask_non_bin(reko)\n",
      "\u001b[0;31mNameError\u001b[0m: name 'reko' is not defined"
     ]
    }
   ],
   "source": [
    "visualize_mask_non_bin(reko)"
   ]
  },
  {
   "cell_type": "code",
   "execution_count": 44,
   "metadata": {},
   "outputs": [],
   "source": [
    "visualize_skeleton(s_recos[1])"
   ]
  },
  {
   "cell_type": "code",
   "execution_count": 46,
   "metadata": {},
   "outputs": [],
   "source": [
    "visualize_addition(mask_main, s_reco)"
   ]
  },
  {
   "cell_type": "code",
   "execution_count": 47,
   "metadata": {},
   "outputs": [
    {
     "name": "stdout",
     "output_type": "stream",
     "text": [
      "one-piece mask\n"
     ]
    }
   ],
   "source": [
    "verify_mask(s_reco)"
   ]
  },
  {
   "attachments": {},
   "cell_type": "markdown",
   "metadata": {},
   "source": [
    "### Scaling up and trimming reconstruction of scaled tree"
   ]
  },
  {
   "cell_type": "code",
   "execution_count": 33,
   "metadata": {},
   "outputs": [],
   "source": [
    "def upscale_reconstruction(s_reco, scale):\n",
    "    upscale = 1 / scale\n",
    "    u_reco = scale_mask(s_reco, upscale, order=3)\n",
    "    return u_reco"
   ]
  },
  {
   "cell_type": "code",
   "execution_count": 34,
   "metadata": {},
   "outputs": [
    {
     "name": "stdout",
     "output_type": "stream",
     "text": [
      "Wall time: 2min 58s\n"
     ]
    }
   ],
   "source": [
    "%%time\n",
    "u_reco = upscale_reconstruction(s_reco, scale=scales.get(TREE_NAME, 0.5))"
   ]
  },
  {
   "cell_type": "code",
   "execution_count": 35,
   "metadata": {},
   "outputs": [
    {
     "name": "stdout",
     "output_type": "stream",
     "text": [
      "mask_main shape (943, 486, 1443) u_reco shape (929, 485, 1442)\n",
      "final shape [ 929  485 1442]\n"
     ]
    }
   ],
   "source": [
    "shape = np.min([mask_main.shape, u_reco.shape], axis=0)\n",
    "print('mask_main shape', mask_main.shape, 'u_reco shape', u_reco.shape)\n",
    "print('final shape', shape)\n",
    "mask_main_r = mask_main[:shape[0], :shape[1], :shape[2]]\n",
    "u_reco_r = u_reco[:shape[0], :shape[1], :shape[2]]"
   ]
  },
  {
   "cell_type": "code",
   "execution_count": 36,
   "metadata": {},
   "outputs": [
    {
     "data": {
      "text/plain": [
       "(929, 485, 1428)"
      ]
     },
     "execution_count": 36,
     "metadata": {},
     "output_type": "execute_result"
    }
   ],
   "source": [
    "u_reco_r = u_reco[:shape[0], :shape[1], 14:]\n",
    "u_reco_r.shape\n",
    "\n",
    "# mask_main_r = mask_main[:shape[0], :shape[1], 14:]\n",
    "# mask_main_r.shape"
   ]
  },
  {
   "cell_type": "code",
   "execution_count": 37,
   "metadata": {
    "scrolled": true
   },
   "outputs": [
    {
     "ename": "ValueError",
     "evalue": "operands could not be broadcast together with shapes (929,485,1442) (929,485,1428) ",
     "output_type": "error",
     "traceback": [
      "\u001b[1;31m---------------------------------------------------------------------------\u001b[0m",
      "\u001b[1;31mValueError\u001b[0m                                Traceback (most recent call last)",
      "\u001b[1;32m<ipython-input-37-8b351e21ceec>\u001b[0m in \u001b[0;36m<module>\u001b[1;34m\u001b[0m\n\u001b[1;32m----> 1\u001b[1;33m \u001b[0mjoint_reco\u001b[0m \u001b[1;33m=\u001b[0m \u001b[0mnp\u001b[0m\u001b[1;33m.\u001b[0m\u001b[0mlogical_or\u001b[0m\u001b[1;33m(\u001b[0m\u001b[0mmask_main_r\u001b[0m\u001b[1;33m,\u001b[0m \u001b[0mu_reco_r\u001b[0m\u001b[1;33m)\u001b[0m\u001b[1;33m\u001b[0m\u001b[1;33m\u001b[0m\u001b[0m\n\u001b[0m\u001b[0;32m      2\u001b[0m \u001b[0mverify_mask\u001b[0m\u001b[1;33m(\u001b[0m\u001b[0mjoint_reco\u001b[0m\u001b[1;33m)\u001b[0m\u001b[1;33m\u001b[0m\u001b[1;33m\u001b[0m\u001b[0m\n\u001b[0;32m      3\u001b[0m \u001b[0mmain_regions\u001b[0m\u001b[1;33m,\u001b[0m \u001b[0mbounding_boxes\u001b[0m \u001b[1;33m=\u001b[0m \u001b[0mget_main_regions\u001b[0m\u001b[1;33m(\u001b[0m\u001b[0mjoint_reco\u001b[0m\u001b[1;33m,\u001b[0m \u001b[0mmin_size\u001b[0m\u001b[1;33m=\u001b[0m\u001b[0mmain_region_min_size\u001b[0m\u001b[1;33m.\u001b[0m\u001b[0mget\u001b[0m\u001b[1;33m(\u001b[0m\u001b[0mTREE_NAME\u001b[0m\u001b[1;33m,\u001b[0m \u001b[1;36m20_000\u001b[0m\u001b[1;33m)\u001b[0m\u001b[1;33m)\u001b[0m\u001b[1;33m\u001b[0m\u001b[1;33m\u001b[0m\u001b[0m\n\u001b[0;32m      4\u001b[0m \u001b[0mprint\u001b[0m\u001b[1;33m(\u001b[0m\u001b[1;34m'number of main regions:'\u001b[0m\u001b[1;33m,\u001b[0m \u001b[0mlen\u001b[0m\u001b[1;33m(\u001b[0m\u001b[0mbounding_boxes\u001b[0m\u001b[1;33m)\u001b[0m\u001b[1;33m)\u001b[0m\u001b[1;33m\u001b[0m\u001b[1;33m\u001b[0m\u001b[0m\n\u001b[0;32m      5\u001b[0m \u001b[0mnew_joint_reco\u001b[0m \u001b[1;33m=\u001b[0m \u001b[0mnp\u001b[0m\u001b[1;33m.\u001b[0m\u001b[0mlogical_or\u001b[0m\u001b[1;33m(\u001b[0m\u001b[0mmask_main_r\u001b[0m\u001b[1;33m,\u001b[0m \u001b[0mmain_regions\u001b[0m\u001b[1;33m)\u001b[0m\u001b[1;33m\u001b[0m\u001b[1;33m\u001b[0m\u001b[0m\n",
      "\u001b[1;31mValueError\u001b[0m: operands could not be broadcast together with shapes (929,485,1442) (929,485,1428) "
     ]
    }
   ],
   "source": [
    "joint_reco = np.logical_or(mask_main_r, u_reco_r)\n",
    "verify_mask(joint_reco)\n",
    "main_regions, bounding_boxes = get_main_regions(joint_reco, min_size=main_region_min_size.get(TREE_NAME, 20_000))\n",
    "print('number of main regions:', len(bounding_boxes))\n",
    "new_joint_reco = np.logical_or(mask_main_r, main_regions)\n",
    "# visualize_addition(mask_main_r, new_joint_reco)"
   ]
  },
  {
   "cell_type": "code",
   "execution_count": null,
   "metadata": {},
   "outputs": [],
   "source": [
    "np.sum(joint_reco), np.sum(main_regions), np.sum(new_joint_reco)"
   ]
  },
  {
   "cell_type": "code",
   "execution_count": null,
   "metadata": {},
   "outputs": [],
   "source": [
    "visualize_addition(mask_main_r, new_joint_reco)"
   ]
  },
  {
   "attachments": {},
   "cell_type": "markdown",
   "metadata": {},
   "source": [
    "### Fine tuning full res reconstruction"
   ]
  },
  {
   "cell_type": "code",
   "execution_count": 37,
   "metadata": {
    "scrolled": false
   },
   "outputs": [
    {
     "name": "stdout",
     "output_type": "stream",
     "text": [
      "Iteration 1 kernel 0 done\n",
      "Iteration 1 kernel 1 done\n",
      "Iteration 1 kernel 2 done\n",
      "Iteration 1 kernel 3 done\n",
      "Iteration 1 kernel 4 done\n",
      "Iteration 1 kernel 5 done\n",
      "Iteration 1 kernel 6 done\n",
      "Iteration 1 kernel 7 done\n",
      "Iteration 1 kernel 8 done\n",
      "Iteration 1 kernel 9 done\n",
      "Iteration 1 kernel 10 done\n",
      "Iteration 1 kernel 11 done\n",
      "Iteration 1 kernel 12 done\n",
      "Iteration 1 kernel 13 done\n",
      "Iteration 1 kernel 14 done\n",
      "Iteration 1 kernel 15 done\n",
      "Iteration 1 kernel 16 done\n",
      "Iteration 1 kernel 17 done\n",
      "Iteration 1 kernel 18 done\n",
      "Iteration 1 kernel 19 done\n",
      "Iteration 1 kernel 20 done\n",
      "Iteration 1 kernel 21 done\n",
      "Iteration 1 kernel 22 done\n",
      "Iteration 1 kernel 23 done\n",
      "Iteration 1 kernel 24 done\n",
      "Iteration 1 kernel 25 done\n",
      "Iteration 1 ended successfully\n",
      "Wall time: 42min 48s\n"
     ]
    }
   ],
   "source": [
    "%%time\n",
    "\n",
    "ft_kernel_sizes = {\n",
    "    'P01': range(0, 28),\n",
    "    'P02': range(0, 28),\n",
    "#     'P03': range(0, 26),\n",
    "#     'P04': range(0, 26),\n",
    "#     'P05': range(0, 26),\n",
    "#     'P06': range(0, 26),\n",
    "#     'P07': range(0, 26),\n",
    "    'P09': range(0, 24),\n",
    "    'P10': range(0, 24),\n",
    "#     'P11': range(0, 26),\n",
    "#     'P12': range(0, 26),\n",
    "#     'P13': range(0, 26),\n",
    "#     'P14': range(0, 26),\n",
    "    'P15': range(0, 24),\n",
    "    'P16': range(0, 24),\n",
    "    'P17': range(0, 25),\n",
    "#     'P18': range(0, 26),\n",
    "    'P19': range(0, 24),\n",
    "#     'P20': range(0, 26),\n",
    "    'P21': range(0, 24),\n",
    "    'P23': range(0, 28),\n",
    "#     'P24': range(0, 26),\n",
    "#     'P25': range(0, 26),\n",
    "#     'P26': range(0, 26),\n",
    "#     'P27': range(0, 26),\n",
    "    'P28': range(0, 15),\n",
    "}\n",
    "\n",
    "ft_number_of_iterations = {\n",
    "    'P01': 1,\n",
    "    'P19': 2,\n",
    "    'P20': 2,\n",
    "    'P30': 3,\n",
    "    'P31': 2,\n",
    "    'P33': 2,\n",
    "}\n",
    "\n",
    "ft_recos = calculate_reconstruction(new_joint_reco, \n",
    "                                    kernel_sizes=ft_kernel_sizes.get(TREE_NAME, range(0, 26)), \n",
    "                                    iters=ft_number_of_iterations.get(TREE_NAME, 1))"
   ]
  },
  {
   "cell_type": "code",
   "execution_count": 38,
   "metadata": {},
   "outputs": [],
   "source": [
    "reco = ft_recos[-1]"
   ]
  },
  {
   "attachments": {},
   "cell_type": "markdown",
   "metadata": {},
   "source": [
    "## Verify and save reconstruction"
   ]
  },
  {
   "cell_type": "code",
   "execution_count": 40,
   "metadata": {},
   "outputs": [],
   "source": [
    "visualize_mask_non_bin(reco)\n",
    "visualize_skeleton(reco)\n",
    "visualize_addition(mask_main_r, reco) "
   ]
  },
  {
   "cell_type": "code",
   "execution_count": 39,
   "metadata": {},
   "outputs": [],
   "source": [
    "padded_reco = np.pad(reco, 1) # padding reconstruction to avoid padding later\n",
    "np.save(source_dir + TREE_NAME + '/reconstruction', padded_reco)"
   ]
  },
  {
   "cell_type": "code",
   "execution_count": null,
   "metadata": {},
   "outputs": [],
   "source": []
  },
  {
   "attachments": {},
   "cell_type": "markdown",
   "metadata": {},
   "source": [
    "## Verifying obtained reconstruction "
   ]
  },
  {
   "cell_type": "code",
   "execution_count": null,
   "metadata": {},
   "outputs": [],
   "source": [
    "# if the reconstruction looks bad try using results of previous iterations\n",
    "# if the skelecon still has mistletoes try increasing number of iterations\n",
    "reconstruction = (lsd_trees[-1] > 0).astype(np.uint8)\n",
    "visualize_mask_non_bin(reconstruction) # check for holes\n",
    "visualize_skeleton(reconstruction) # check for mistletoes\n",
    "visualize_addition(mask_main, reconstruction) # check for anomalies"
   ]
  }
 ],
 "metadata": {
  "kernelspec": {
   "display_name": "Python 3 (ipykernel)",
   "language": "python",
   "name": "python3"
  },
  "language_info": {
   "codemirror_mode": {
    "name": "ipython",
    "version": 3
   },
   "file_extension": ".py",
   "mimetype": "text/x-python",
   "name": "python",
   "nbconvert_exporter": "python",
   "pygments_lexer": "ipython3",
   "version": "3.10.6"
  }
 },
 "nbformat": 4,
 "nbformat_minor": 4
}
