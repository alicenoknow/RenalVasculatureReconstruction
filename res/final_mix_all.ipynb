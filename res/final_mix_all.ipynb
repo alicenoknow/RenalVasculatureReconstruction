{
 "cells": [
  {
   "cell_type": "code",
   "execution_count": 1,
   "id": "2235e95b",
   "metadata": {},
   "outputs": [],
   "source": [
    "from vis_utils import load_volume, VolumeVisualizer, ColorMapVisualizer\n",
    "from identification import get_vessel_graph, remove_graph_components, parametrize_graph, clean_data_graph"
   ]
  },
  {
   "cell_type": "code",
   "execution_count": 2,
   "id": "413e8d92",
   "metadata": {},
   "outputs": [],
   "source": [
    "import numpy as np\n",
    "import networkx as nx\n",
    "import time\n",
    "import psutil\n",
    "\n",
    "from queue import SimpleQueue\n",
    "from skimage import measure, morphology \n",
    "from scipy.ndimage import distance_transform_edt, zoom\n",
    "from scipy.signal import fftconvolve\n",
    "from scipy.spatial.distance import euclidean"
   ]
  },
  {
   "cell_type": "code",
   "execution_count": 3,
   "id": "d79b94a0",
   "metadata": {},
   "outputs": [],
   "source": [
    "visualize_steps = False "
   ]
  },
  {
   "cell_type": "markdown",
   "id": "80b9b5f0",
   "metadata": {},
   "source": [
    "### Visualisation utilities"
   ]
  },
  {
   "cell_type": "code",
   "execution_count": 4,
   "id": "71a5b047",
   "metadata": {},
   "outputs": [],
   "source": [
    "def visualize_mask_bin(mask):\n",
    "    VolumeVisualizer((mask > 0).astype(np.uint8), binary=True).visualize()\n",
    "    \n",
    "def visualize_mask_non_bin(mask):\n",
    "    VolumeVisualizer((mask > 0).astype(np.uint8) * 255, binary=False).visualize()\n",
    "    \n",
    "def draw_graph_on_model(binary_model, graph):\n",
    "    mask = np.zeros(binary_model.shape, dtype=np.uint8)\n",
    "    mask[binary_model] = 30\n",
    "    \n",
    "\n",
    "    for edge in graph.edges:\n",
    "        node1, node2 = edge\n",
    "        x1, y1, z1 = node1\n",
    "        x2, y2, z2 = node2\n",
    "        line_x = np.linspace(x1, x2, num=300, endpoint=True, dtype=np.int32)\n",
    "        line_y = np.linspace(y1, y2, num=300, endpoint=True, dtype=np.int32)\n",
    "        line_z = np.linspace(z1, z2, num=300, endpoint=True, dtype=np.int32)\n",
    "        for i in range(len(line_x)):\n",
    "            mask[line_x[i], line_y[i], line_z[i]] = 255\n",
    "\n",
    "    for node in graph.nodes:\n",
    "        x, y, z = node\n",
    "        mask[x, y, z] = 40\n",
    "    return mask"
   ]
  },
  {
   "cell_type": "code",
   "execution_count": 5,
   "id": "03818f90",
   "metadata": {},
   "outputs": [],
   "source": [
    "import re\n",
    "\n",
    "def get_volume(filename):\n",
    "    try:\n",
    "        tokens = re.split(r'x|_|\\.', filename)\n",
    "        shape_z, shape_y, shape_x = int(tokens[-4]), int(tokens[-3]), int(tokens[-2])\n",
    "        volume = np.fromfile(filename, dtype=np.uint8)\n",
    "        return volume.reshape(shape_x, shape_y, shape_z)\n",
    "    except:\n",
    "        print(\"Invalid filename, correct format: <filename>_<shape x>x<shape y>x<shape z>.raw\")"
   ]
  },
  {
   "cell_type": "markdown",
   "id": "671dbc83",
   "metadata": {},
   "source": [
    "### Read data"
   ]
  },
  {
   "cell_type": "code",
   "execution_count": 6,
   "id": "9b35c5b5",
   "metadata": {},
   "outputs": [],
   "source": [
    "volume = get_volume(\"../data/P13/P13_60um_1132x488x877.raw\")"
   ]
  },
  {
   "cell_type": "code",
   "execution_count": 7,
   "id": "5743a40a",
   "metadata": {},
   "outputs": [
    {
     "data": {
      "text/plain": [
       "(877, 488, 1132)"
      ]
     },
     "execution_count": 7,
     "metadata": {},
     "output_type": "execute_result"
    }
   ],
   "source": [
    "volume.shape"
   ]
  },
  {
   "cell_type": "code",
   "execution_count": 8,
   "id": "fe1e2e21",
   "metadata": {},
   "outputs": [],
   "source": [
    "if visualize_steps:\n",
    "    VolumeVisualizer(volume, binary=False).visualize() "
   ]
  },
  {
   "cell_type": "code",
   "execution_count": 9,
   "id": "82a71d83",
   "metadata": {},
   "outputs": [],
   "source": [
    "mask = volume > 32"
   ]
  },
  {
   "cell_type": "code",
   "execution_count": 10,
   "id": "d161db4a",
   "metadata": {},
   "outputs": [],
   "source": [
    "def get_main_regions(binary_mask, min_size=10_000, connectivity=3):\n",
    "    labeled = measure.label(binary_mask, connectivity=connectivity)\n",
    "    region_props = measure.regionprops(labeled)\n",
    "    \n",
    "    main_regions = np.zeros(binary_mask.shape)\n",
    "    bounding_boxes = []\n",
    "    for props in region_props:\n",
    "        if props.area >= min_size:\n",
    "            bounding_boxes.append(props.bbox)\n",
    "            main_regions = np.logical_or(main_regions, labeled==props.label)\n",
    "            \n",
    "    lower_bounds = np.min(bounding_boxes, axis=0)[:3]\n",
    "    upper_bounds = np.max(bounding_boxes, axis=0)[3:]\n",
    "\n",
    "    return main_regions[\n",
    "        lower_bounds[0]:upper_bounds[0],\n",
    "        lower_bounds[1]:upper_bounds[1],\n",
    "        lower_bounds[2]:upper_bounds[2],\n",
    "    ], bounding_boxes"
   ]
  },
  {
   "cell_type": "code",
   "execution_count": 11,
   "id": "780790d6",
   "metadata": {},
   "outputs": [],
   "source": [
    "main_regions, bounding_boxes = get_main_regions(mask, min_size=25_000)"
   ]
  },
  {
   "cell_type": "code",
   "execution_count": 12,
   "id": "007229f0",
   "metadata": {},
   "outputs": [
    {
     "name": "stdout",
     "output_type": "stream",
     "text": [
      "Number of main regions: 1\n"
     ]
    }
   ],
   "source": [
    "print('Number of main regions:', len(bounding_boxes))"
   ]
  },
  {
   "cell_type": "code",
   "execution_count": 13,
   "id": "2344b1da",
   "metadata": {},
   "outputs": [],
   "source": [
    "if visualize_steps:\n",
    "    visualize_mask_bin(main_regions)"
   ]
  },
  {
   "cell_type": "code",
   "execution_count": 14,
   "id": "ecc57a76",
   "metadata": {},
   "outputs": [],
   "source": [
    "def spherical_kernel(outer_radius, thickness=1, filled=True):    \n",
    "    outer_sphere = morphology.ball(radius=outer_radius)\n",
    "    if filled:\n",
    "        return outer_sphere\n",
    "    \n",
    "    thickness = min(thickness, outer_radius)\n",
    "    \n",
    "    inner_radius = outer_radius - thickness\n",
    "    inner_sphere = morphology.ball(radius=inner_radius)\n",
    "    \n",
    "    begin = outer_radius - inner_radius\n",
    "    end = begin + inner_sphere.shape[0]\n",
    "    outer_sphere[begin:end, begin:end, begin:end] -= inner_sphere\n",
    "    return outer_sphere\n",
    "\n",
    "def convolve_with_ball(img, ball_radius, dtype=np.uint16, normalize=True, fft=True):\n",
    "    kernel = spherical_kernel(ball_radius, filled=True)\n",
    "    if fft:\n",
    "        convolved = fftconvolve(img.astype(dtype), kernel.astype(dtype), mode='same')\n",
    "    else:\n",
    "        convolved = signal.convolve(img.astype(dtype), kernel.astype(dtype), mode='same')\n",
    "    \n",
    "    if not normalize:\n",
    "        return convolved\n",
    "    \n",
    "    return (convolved / kernel.sum()).astype(np.float16)\n",
    "\n",
    "def calculate_reconstruction(mask, kernel_sizes=[10, 9, 8, 7], fill_threshold=0.5, iters=1, conv_dtype=np.uint16, fft=True):\n",
    "    kernel_sizes_maps = []\n",
    "    mask = mask.astype(np.uint8)\n",
    "    \n",
    "    for i in range(iters):\n",
    "        kernel_size_map = np.zeros(mask.shape, dtype=np.uint8)\n",
    "\n",
    "        for kernel_size in kernel_sizes:\n",
    "            fill_percentage = convolve_with_ball(mask, kernel_size, dtype=conv_dtype, normalize=True, fft=fft)\n",
    "            \n",
    "            above_threshold_fill_indices = fill_percentage > fill_threshold\n",
    "            kernel_size_map[above_threshold_fill_indices] = kernel_size + 1\n",
    "\n",
    "            mask[above_threshold_fill_indices] = 1\n",
    "            \n",
    "        kernel_sizes_maps.append(kernel_size_map)\n",
    "        print(f'Iteration {i + 1} ended successfully')\n",
    "\n",
    "    return kernel_sizes_maps"
   ]
  },
  {
   "cell_type": "code",
   "execution_count": 15,
   "id": "707d9a71",
   "metadata": {},
   "outputs": [],
   "source": [
    "scaled_mask = zoom(main_regions, zoom=0.7, order=0)"
   ]
  },
  {
   "cell_type": "code",
   "execution_count": 16,
   "id": "c53bc170",
   "metadata": {},
   "outputs": [
    {
     "data": {
      "text/plain": [
       "(598, 324, 775)"
      ]
     },
     "execution_count": 16,
     "metadata": {},
     "output_type": "execute_result"
    }
   ],
   "source": [
    "scaled_mask.shape"
   ]
  },
  {
   "cell_type": "code",
   "execution_count": null,
   "id": "10a007eb",
   "metadata": {},
   "outputs": [],
   "source": []
  },
  {
   "cell_type": "code",
   "execution_count": 17,
   "id": "ef26c966",
   "metadata": {},
   "outputs": [],
   "source": [
    "if visualize_steps:\n",
    "    visualize_mask_bin(scaled_mask)"
   ]
  },
  {
   "cell_type": "markdown",
   "id": "3765b64f",
   "metadata": {},
   "source": [
    "### Initial reconstruction"
   ]
  },
  {
   "cell_type": "code",
   "execution_count": null,
   "id": "8a1ec714",
   "metadata": {},
   "outputs": [
    {
     "name": "stdout",
     "output_type": "stream",
     "text": [
      "Iteration 1 ended successfully\n",
      "Iteration 2 ended successfully\n"
     ]
    }
   ],
   "source": [
    "%%time\n",
    "s_recos = calculate_reconstruction(scaled_mask, \n",
    "                                   kernel_sizes=[1, 2, 3, 4, 5, 6, 7, 8, 9, 10, 11, 12], \n",
    "                                   iters=3)"
   ]
  },
  {
   "cell_type": "code",
   "execution_count": null,
   "id": "dd037525",
   "metadata": {},
   "outputs": [],
   "source": [
    "bin_reco = s_recos[-1] > 0"
   ]
  },
  {
   "cell_type": "code",
   "execution_count": null,
   "id": "3e31a7bc",
   "metadata": {},
   "outputs": [],
   "source": [
    "if visualize_steps:\n",
    "    visualize_mask_bin(bin_reco)"
   ]
  },
  {
   "cell_type": "markdown",
   "id": "7c0717c8",
   "metadata": {},
   "source": [
    "### EDT transform"
   ]
  },
  {
   "cell_type": "code",
   "execution_count": null,
   "id": "2b2403e7",
   "metadata": {},
   "outputs": [],
   "source": [
    "%%time\n",
    "edt_img = distance_transform_edt(bin_reco)"
   ]
  },
  {
   "cell_type": "code",
   "execution_count": null,
   "id": "974ec4a8",
   "metadata": {},
   "outputs": [],
   "source": [
    "if visualize_steps:\n",
    "    ColorMapVisualizer(edt_img.astype(np.uint8)).visualize()"
   ]
  },
  {
   "cell_type": "markdown",
   "id": "e5b29ba1",
   "metadata": {},
   "source": [
    "### Fing vertices and edges"
   ]
  },
  {
   "cell_type": "code",
   "execution_count": null,
   "id": "501210d8",
   "metadata": {},
   "outputs": [],
   "source": [
    "%%time\n",
    "use_cube = False\n",
    "vessel_graph = get_vessel_graph(bin_reco, 3, use_cube)"
   ]
  },
  {
   "cell_type": "code",
   "execution_count": null,
   "id": "b3b6f41e",
   "metadata": {},
   "outputs": [],
   "source": [
    "print('Number of nodes', len(vessel_graph.nodes))\n",
    "print('Number of edges', len(vessel_graph.edges))\n",
    "print('Average degree', sum(dict(vessel_graph.degree).values()) / len(vessel_graph.nodes))"
   ]
  },
  {
   "cell_type": "code",
   "execution_count": null,
   "id": "8d214876",
   "metadata": {},
   "outputs": [],
   "source": [
    "import pickle\n",
    "pickle.dump(vessel_graph, open('get_vessel_full_2.pickle', 'wb'))"
   ]
  },
  {
   "cell_type": "code",
   "execution_count": null,
   "id": "b78abf42",
   "metadata": {},
   "outputs": [],
   "source": [
    "if visualize_steps:\n",
    "    model_with_graph = draw_graph_on_model(bin_reco, vessel_graph)\n",
    "    ColorMapVisualizer(model_with_graph.astype(np.uint8)).visualize()"
   ]
  },
  {
   "cell_type": "markdown",
   "id": "f8fa3890",
   "metadata": {},
   "source": [
    "### Remove zero-degree vertices"
   ]
  },
  {
   "cell_type": "code",
   "execution_count": null,
   "id": "b5899d58",
   "metadata": {},
   "outputs": [],
   "source": [
    "%%time\n",
    "vessel_graph_rm = remove_graph_components(vessel_graph)"
   ]
  },
  {
   "cell_type": "code",
   "execution_count": null,
   "id": "a801d3ac",
   "metadata": {},
   "outputs": [],
   "source": [
    "print('Number of nodes', len(vessel_graph_rm.nodes))\n",
    "print('Number of edges', len(vessel_graph_rm.edges))\n",
    "print('Average degree', sum(dict(vessel_graph_rm.degree).values()) / len(vessel_graph_rm.nodes))"
   ]
  },
  {
   "cell_type": "code",
   "execution_count": null,
   "id": "707c5e91",
   "metadata": {},
   "outputs": [],
   "source": [
    "if visualize_steps:\n",
    "    model_with_graph = draw_graph_on_model(bin_reco, vessel_graph_rm)\n",
    "    ColorMapVisualizer(model_with_graph.astype(np.uint8)).visualize()"
   ]
  },
  {
   "cell_type": "markdown",
   "id": "ed69db77",
   "metadata": {},
   "source": [
    "### Original connect endings"
   ]
  },
  {
   "cell_type": "code",
   "execution_count": null,
   "id": "dac8fae9",
   "metadata": {},
   "outputs": [],
   "source": [
    "def connect_endings_3d(graph, edt_img, multiplier=2.5):\n",
    "    \"\"\"Fix discontinuities in vessel graph.\n",
    "\n",
    "    Args:\n",
    "        graph (nx.Graph): Graph object from NetworkX library.\n",
    "        edt_img (np.array): Numpy array containing euclidean distance transformed image of vessel.\n",
    "        multiplier (int, optional): Multiplier for maximum distance between nodes to connect.\n",
    "        Defaults to 2.\n",
    "\n",
    "    Returns:\n",
    "        nx.Graph: Graph without discontinuities.\n",
    "    \"\"\"\n",
    "    # find potential discontinuities\n",
    "    endings = [node for node, degree in graph.degree() if degree == 1]\n",
    "    \n",
    "    # for every ending run BFS connection search\n",
    "    print(\"Endings: \", len(endings))\n",
    "    while endings:\n",
    "        # get point to find connection for\n",
    "        start = endings.pop()\n",
    "        # calculate search area\n",
    "        r = edt_img[start] * multiplier\n",
    "        search_area = int(4/3 * r * r * r * np.pi)\n",
    "        # setup BFS\n",
    "        points = SimpleQueue()\n",
    "        points.put(start)\n",
    "        visited = np.zeros_like(edt_img).astype(bool)\n",
    "        \n",
    "        # run BFS on a restricted area\n",
    "        while not points.empty() and search_area:\n",
    "            search_area -= 1\n",
    "            # get point\n",
    "            x, y, z = points.get()\n",
    "            visited[x, y, z] = True\n",
    "            \n",
    "            # check if point is a node and is a valid connection\n",
    "            if graph.has_node((x, y, z)) and not nx.has_path(graph, start, (x, y, z)):\n",
    "                graph.add_edge(start, (x, y, z))\n",
    "                # this is to prevent accidentally creating bifurcations\n",
    "                if (x, y, z) in endings:\n",
    "                    endings.pop(endings.index((x, y, z)))\n",
    "                break\n",
    "\n",
    "            # add point to search if it is in segmentation mask and it is not visited\n",
    "            for dx in range(-1, 2):\n",
    "                for dy in range(-1, 2):\n",
    "                    for dz in range(-1, 2):\n",
    "                        new_point = (x + dx, y + dy, z + dz)\n",
    "                        if (\n",
    "                            x + dx >= 0\n",
    "                            and x + dx < edt_img.shape[0]\n",
    "                            and y + dy >= 0\n",
    "                            and y + dy < edt_img.shape[1]\n",
    "                            and z + dz >= 0\n",
    "                            and z + dz < edt_img.shape[2]\n",
    "                            and not visited[new_point[0], new_point[1], new_point[2]]\n",
    "                            and edt_img[x + dx, y + dy, z + dz] > 0\n",
    "                        ):\n",
    "                            visited[new_point[0], new_point[1], new_point[2]] = True\n",
    "                            points.put(new_point)\n",
    "\n",
    "    return graph"
   ]
  },
  {
   "cell_type": "markdown",
   "id": "a4df3daf",
   "metadata": {},
   "source": [
    "### Simplified connected"
   ]
  },
  {
   "cell_type": "code",
   "execution_count": null,
   "id": "5d83fb06",
   "metadata": {},
   "outputs": [],
   "source": [
    "def connect_endings_3d_dist(graph, edt_img, multiplier=3.):\n",
    "    \"\"\"Fix discontinuities in vessel graph.\n",
    "\n",
    "    Args:\n",
    "        graph (nx.Graph): Graph object from NetworkX library.\n",
    "        edt_img (np.array): Numpy array containing euclidean distance transformed image of vessel.\n",
    "        multiplier (int, optional): Multiplier for maximum distance between nodes to connect.\n",
    "        Defaults to 2.\n",
    "\n",
    "    Returns:\n",
    "        nx.Graph: Graph without discontinuities.\n",
    "    \"\"\"\n",
    "    # find potential discontinuities\n",
    "    endings = [node for node, degree in graph.degree() if degree == 1]\n",
    "    root = np.unravel_index(np.argmax(edt_img), edt_img.shape)\n",
    "    \n",
    "    if root not in graph.nodes:\n",
    "        graph.add_node(root)\n",
    "        \n",
    "    print(\"Endings: \", len(endings))\n",
    "    j = 0\n",
    "    while endings:\n",
    "        if j % 10 == 0:\n",
    "            print(j)\n",
    "        start = endings.pop()\n",
    "        r = edt_img[start] * multiplier\n",
    "        search_area = int(4/3 * r * r * r * np.pi)\n",
    "\n",
    "        visited = np.zeros_like(edt_img).astype(bool)\n",
    "\n",
    "        to_visit = sorted_nodes_by_distance(graph, start)\n",
    "        i = 0\n",
    "        while i < len(to_visit):\n",
    "            if nx.has_path(graph, root, start) or euclidean(start, to_visit[i]) > edt_img[start] * multiplier:\n",
    "                break\n",
    "            curr = to_visit[i]\n",
    "            i += 1\n",
    "            if not nx.has_path(graph, start, curr) and curr != start:\n",
    "                graph.add_edge(start, curr)\n",
    "                if curr in endings:\n",
    "                    endings.pop(endings.index(curr))\n",
    "                break\n",
    "        j += 1\n",
    "    return graph\n",
    "\n",
    "def sorted_nodes_by_distance(graph, node):\n",
    "    distances = {}\n",
    "    for n in list(graph.nodes):\n",
    "        if n == node:\n",
    "            continue\n",
    "        dist = euclidean(node, n)\n",
    "        distances[n] = dist\n",
    "    sorted_nodes = sorted(distances, key=distances.get)\n",
    "    return sorted_nodes"
   ]
  },
  {
   "cell_type": "code",
   "execution_count": null,
   "id": "e5b71de6",
   "metadata": {},
   "outputs": [],
   "source": [
    "%%time\n",
    "vessel_graph_cn = connect_endings_3d(vessel_graph, edt_img, 3)"
   ]
  },
  {
   "cell_type": "code",
   "execution_count": null,
   "id": "fd876665",
   "metadata": {},
   "outputs": [],
   "source": [
    "# %%time\n",
    "# vessel_graph_cn = connect_endings_3d_dist(vessel_graph, edt_img, 3)"
   ]
  },
  {
   "cell_type": "code",
   "execution_count": null,
   "id": "46d7b71a",
   "metadata": {},
   "outputs": [],
   "source": [
    "# vessel_graph = pickle.load(open(\"get_vessel_full_2.pickle\", \"rb\"))"
   ]
  },
  {
   "cell_type": "code",
   "execution_count": null,
   "id": "8fad3f79",
   "metadata": {},
   "outputs": [],
   "source": [
    "print('Number of nodes', len(vessel_graph_cn.nodes))\n",
    "print('Number of edges', len(vessel_graph_cn.edges))\n",
    "print('Average degree', sum(dict(vessel_graph_cn.degree).values()) / len(vessel_graph_cn.nodes))"
   ]
  },
  {
   "cell_type": "code",
   "execution_count": null,
   "id": "3611a847",
   "metadata": {},
   "outputs": [],
   "source": [
    "#pickle.dump(vessel_graph_cn, open('connect_endings_3d_full.pickle', 'wb'))\n",
    "pickle.dump(vessel_graph_cn, open('connect_endings_3d_full_dist_2.pickle', 'wb'))"
   ]
  },
  {
   "cell_type": "code",
   "execution_count": null,
   "id": "9d3ab2c0",
   "metadata": {},
   "outputs": [],
   "source": [
    "if visualize_steps:\n",
    "    model_with_graph = draw_graph_on_model(bin_reco, vessel_graph_cn)\n",
    "    ColorMapVisualizer(model_with_graph.astype(np.uint8)).visualize()"
   ]
  },
  {
   "cell_type": "code",
   "execution_count": null,
   "id": "552eafd9",
   "metadata": {},
   "outputs": [],
   "source": [
    "visualize_steps = True"
   ]
  },
  {
   "cell_type": "markdown",
   "id": "d1366a70",
   "metadata": {},
   "source": [
    "### Parametrize graph"
   ]
  },
  {
   "cell_type": "code",
   "execution_count": null,
   "id": "3f4968e5",
   "metadata": {},
   "outputs": [],
   "source": [
    "%%time\n",
    "data_graph = parametrize_graph(vessel_graph_cn, edt_img)"
   ]
  },
  {
   "cell_type": "code",
   "execution_count": null,
   "id": "6b4f2d90",
   "metadata": {},
   "outputs": [],
   "source": [
    "print('Number of nodes', len(data_graph.nodes))\n",
    "print('Number of edges', len(data_graph.edges))\n",
    "print('Average degree', sum(dict(data_graph.degree).values()) / len(data_graph.nodes))"
   ]
  },
  {
   "cell_type": "code",
   "execution_count": null,
   "id": "67e74663",
   "metadata": {},
   "outputs": [],
   "source": [
    "if visualize_steps:\n",
    "    model_with_graph = draw_graph_on_model(bin_reco, data_graph)\n",
    "    ColorMapVisualizer(model_with_graph.astype(np.uint8)).visualize()"
   ]
  },
  {
   "cell_type": "markdown",
   "id": "32c4dbfb",
   "metadata": {},
   "source": [
    "### Clean graph"
   ]
  },
  {
   "cell_type": "code",
   "execution_count": null,
   "id": "78f57dce",
   "metadata": {},
   "outputs": [],
   "source": [
    "def clean_data_graph(data_graph, min_segment_length=20):\n",
    "    \"\"\"Clean data graph by removing small segments, nodes of degree 2 and selecting a new root.\n",
    "\n",
    "    Args:\n",
    "        data_graph (nx.Graph): Undirected vessel data graph.\n",
    "        min_segment_length (int, optional): Minimum segment length permissible in graph.\n",
    "        Defaults to 20[px].\n",
    "\n",
    "    Returns:\n",
    "        nx.Graph: Cleaned vessel data graph.\n",
    "    \"\"\"\n",
    "    # remove small segments\n",
    "    for edge, segment_length in nx.get_edge_attributes(\n",
    "        data_graph, \"segment_length\"\n",
    "    ).items():\n",
    "        if segment_length < min_segment_length:\n",
    "            data_graph.remove_edge(*edge)\n",
    "    # remove isolated nodes (degree == 0)\n",
    "    data_graph.remove_nodes_from(list(nx.isolates(data_graph)))\n",
    "    # merge segments for nodes of degree 2\n",
    "    while [n for n, degree in data_graph.degree() if degree == 2]:\n",
    "        for node, degree in list(data_graph.degree()):\n",
    "            if degree != 2:\n",
    "                continue\n",
    "            n1, n2 = list(data_graph.neighbors(node))\n",
    "            new_edge_data = {}\n",
    "            new_edge_data[\"nodes\"] = data_graph[node][n1][\"nodes\"]\n",
    "            new_edge_data[\"nodes\"].update(data_graph[node][n2][\"nodes\"])\n",
    "            \n",
    "            new_edge_data[\"segment_length\"] = sum(\n",
    "                node_data[\"vessel_length\"]\n",
    "                for node_data in new_edge_data[\"nodes\"].values()\n",
    "            )\n",
    "            new_edge_data[\"average_vessel_diameter\"] = sum(\n",
    "                node_data[\"vessel_diameter\"]\n",
    "                for node_data in new_edge_data[\"nodes\"].values()\n",
    "            ) / len(new_edge_data[\"nodes\"])\n",
    "            data_graph.remove_node(node)\n",
    "            data_graph.add_edge(n1, n2, **new_edge_data)\n",
    "    # select new root\n",
    "    root_node = choose_root_node(data_graph)\n",
    "    nx.set_node_attributes(data_graph, False, \"root\")\n",
    "    data_graph.nodes[root_node][\"root\"] = True\n",
    "    return data_graph"
   ]
  },
  {
   "cell_type": "code",
   "execution_count": null,
   "id": "ea90583d",
   "metadata": {},
   "outputs": [],
   "source": [
    "def choose_root_node(data_graph):\n",
    "    \"\"\"Select root node for data graph.\n",
    "\n",
    "    Args:\n",
    "        data_graph (nx.Graph): Undirected vessel data graph.\n",
    "\n",
    "    Returns:\n",
    "        tuple: coordinates of root node.\n",
    "    \"\"\"\n",
    "    # select edge with biggest average vessel diameter\n",
    "    edges = [\n",
    "        k\n",
    "        for k, _ in sorted(\n",
    "            nx.get_edge_attributes(data_graph, \"average_vessel_diameter\").items(),\n",
    "            key=lambda item: item[1],\n",
    "        )\n",
    "    ]\n",
    "    n1, n2 = edges[-1]\n",
    "    # select root by node degree\n",
    "    if data_graph.degree(n1) == 1 and data_graph.degree(n2) != 1:\n",
    "        return n1\n",
    "    if data_graph.degree(n2) == 1 and data_graph.degree(n1) != 1:\n",
    "        return n2\n",
    "    # select root by biggest vessel diameter\n",
    "    n1_diameter = data_graph[n1][n2][\"nodes\"][n1][\"vessel_diameter\"]\n",
    "    n2_diameter = data_graph[n1][n2][\"nodes\"][n2][\"vessel_diameter\"]\n",
    "    return n1 if n1_diameter > n2_diameter else n2"
   ]
  },
  {
   "cell_type": "code",
   "execution_count": null,
   "id": "582d6992",
   "metadata": {},
   "outputs": [],
   "source": [
    "%%time\n",
    "data_graph_cl = clean_data_graph(data_graph)"
   ]
  },
  {
   "cell_type": "code",
   "execution_count": null,
   "id": "5a2a019b",
   "metadata": {},
   "outputs": [],
   "source": [
    "if visualize_steps:\n",
    "    model_with_graph = draw_graph_on_model(bin_reco, data_graph_cl)\n",
    "    ColorMapVisualizer(model_with_graph.astype(np.uint8)).visualize()"
   ]
  },
  {
   "cell_type": "code",
   "execution_count": null,
   "id": "fdb668bb",
   "metadata": {},
   "outputs": [],
   "source": [
    "print('Number of nodes', len(data_graph.nodes))\n",
    "print('Number of edges', len(data_graph.edges))\n",
    "print('Average degree', sum(dict(data_graph.degree).values()) / len(data_graph.nodes))"
   ]
  },
  {
   "cell_type": "code",
   "execution_count": null,
   "id": "c4387deb",
   "metadata": {},
   "outputs": [],
   "source": [
    "model_with_graph = draw_graph_on_model(bin_reco, data_graph_cl)\n",
    "ColorMapVisualizer(model_with_graph.astype(np.uint8)).visualize()"
   ]
  },
  {
   "cell_type": "code",
   "execution_count": null,
   "id": "02018dc7",
   "metadata": {},
   "outputs": [],
   "source": [
    "pickle.dump(data_graph_cl, open('clean_data_graph_full_2.pickle', 'wb'))"
   ]
  },
  {
   "cell_type": "code",
   "execution_count": null,
   "id": "19b6ace4",
   "metadata": {},
   "outputs": [],
   "source": []
  },
  {
   "cell_type": "code",
   "execution_count": null,
   "id": "9c4078e1",
   "metadata": {},
   "outputs": [],
   "source": []
  }
 ],
 "metadata": {
  "kernelspec": {
   "display_name": "Python 3 (ipykernel)",
   "language": "python",
   "name": "python3"
  },
  "language_info": {
   "codemirror_mode": {
    "name": "ipython",
    "version": 3
   },
   "file_extension": ".py",
   "mimetype": "text/x-python",
   "name": "python",
   "nbconvert_exporter": "python",
   "pygments_lexer": "ipython3",
   "version": "3.7.15"
  }
 },
 "nbformat": 4,
 "nbformat_minor": 5
}
