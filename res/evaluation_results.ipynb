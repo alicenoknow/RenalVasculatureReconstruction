{
 "cells": [
  {
   "cell_type": "code",
   "execution_count": 1,
   "id": "e53b7cfa",
   "metadata": {},
   "outputs": [],
   "source": [
    "import numpy as np\n",
    "import glob\n",
    "import matplotlib.pyplot as plt\n",
    "import pickle\n",
    "import os\n",
    "import re\n",
    "import numpy as np\n",
    "\n",
    "from skimage import measure, segmentation, feature\n",
    "from vis_utils import load_volume, VolumeVisualizer, ColorMapVisualizer\n",
    "from scipy.ndimage import zoom\n",
    "from scipy.signal import fftconvolve\n",
    "from skimage.morphology import skeletonize_3d, binary_dilation, convex_hull_image\n",
    "from skimage import filters, morphology\n",
    "from scipy import signal\n",
    "from skimage.filters import frangi, sato\n",
    "from PIL import Image\n",
    "from tqdm import tqdm\n",
    "\n",
    "from scipy.ndimage import zoom"
   ]
  },
  {
   "cell_type": "markdown",
   "id": "89fe1b63",
   "metadata": {},
   "source": [
    "## DICE"
   ]
  },
  {
   "cell_type": "code",
   "execution_count": 2,
   "id": "b04fb176",
   "metadata": {},
   "outputs": [],
   "source": [
    "def dice_coefficient(img1, img2):\n",
    "    intersection = np.logical_and(img1, img2)\n",
    "    return 2. * intersection.sum() / (img1.sum() + img2.sum())"
   ]
  },
  {
   "cell_type": "markdown",
   "id": "eadeb66a",
   "metadata": {},
   "source": [
    "## Hausdorff distance"
   ]
  },
  {
   "cell_type": "code",
   "execution_count": 3,
   "id": "7f512680",
   "metadata": {},
   "outputs": [],
   "source": [
    "from scipy.spatial.distance import directed_hausdorff\n",
    "\n",
    "def hausdorff_distance(original, reconstruction):\n",
    "    original_points_list = np.array(tuple(zip(*np.nonzero(original))))\n",
    "    reconstr_points_list = np.array(tuple(zip(*np.nonzero(reconstruction))))\n",
    "    \n",
    "    original_housdorff = directed_hausdorff(original_points_list, reconstr_points_list)\n",
    "    reconstr_housdorff = directed_hausdorff(reconstr_points_list, original_points_list)\n",
    "    \n",
    "    return original_housdorff, reconstr_housdorff"
   ]
  },
  {
   "cell_type": "markdown",
   "id": "9ef0facf",
   "metadata": {},
   "source": [
    "## Confusion matrix"
   ]
  },
  {
   "cell_type": "code",
   "execution_count": 4,
   "id": "5f158e39",
   "metadata": {},
   "outputs": [],
   "source": [
    "from sklearn.metrics import confusion_matrix\n",
    "\n",
    "def conf_matrix(original, reconstruction):\n",
    "    original_flat = np.ravel(original)\n",
    "    recons_flat = np.ravel(reconstruction)\n",
    "    \n",
    "    conf_mat = confusion_matrix(original_flat, recons_flat)\n",
    "    \n",
    "    TN, FP, FN, TP = conf_mat.ravel()\n",
    "    precision = TP / (TP + FP)\n",
    "    accuracy = (TP + TN) / (TP + FP + TN + FN)\n",
    "    recall = TP / (TP + FN)\n",
    "    \n",
    "    return precision, accuracy, recall"
   ]
  },
  {
   "cell_type": "markdown",
   "id": "031f8a24",
   "metadata": {},
   "source": [
    "# Results "
   ]
  },
  {
   "cell_type": "code",
   "execution_count": 9,
   "id": "fc722a8a",
   "metadata": {},
   "outputs": [],
   "source": [
    "def get_volume(filename):\n",
    "    try:\n",
    "        tokens = re.split(r'x|_|\\.', filename)\n",
    "        shape_z, shape_y, shape_x = int(tokens[-4]), int(tokens[-3]), int(tokens[-2])\n",
    "        volume = np.fromfile(filename, dtype=np.uint8)\n",
    "        return volume.reshape(shape_x, shape_y, shape_z)\n",
    "    except:\n",
    "        print(\"Invalid filename, correct format: <filename>_<shape x>x<shape y>x<shape z>.raw\")"
   ]
  },
  {
   "cell_type": "code",
   "execution_count": null,
   "id": "86eb8ca3",
   "metadata": {},
   "outputs": [],
   "source": [
    "files = os.listdir(\"reconstructed_M_full\")\n",
    "# results = open(\"model_evaluation_results.txt\", \"w\")\n",
    "\n",
    "for i, file in enumerate(files):\n",
    "    if i != 11 and i != 14:\n",
    "        continue\n",
    "    file_path = os.path.join(\"reconstructed_M_full\", file)\n",
    "    reconstruction = np.load(file_path)\n",
    "\n",
    "    prep_no = re.split(r\"[_\\.]\", file_path)[-2]\n",
    "    \n",
    "    org_path = \"../data/\" + prep_no + \"/\"\n",
    "    org_files = os.listdir(org_path)\n",
    "    org_files = [file for file in org_files if file.endswith(\".npy\")]\n",
    "    org_file = org_files[0]\n",
    "    \n",
    "    original = np.load(org_path + org_file)\n",
    "#     original = get_volume(org_path + org_file)\n",
    "    original = original > 32\n",
    "    \n",
    "    x,y,z = original.shape[0] - reconstruction.shape[0], original.shape[1] - reconstruction.shape[1], original.shape[2] - reconstruction.shape[2]\n",
    "    \n",
    "    original = original[x//2 : original.shape[0] - (x - x//2), y//2 : original.shape[1] - (y - y//2), z//2 : original.shape[2] - (z - z//2),]\n",
    "    print(original.shape, reconstruction.shape)\n",
    "#     results.write(str(prep_no) + '\\n')\n",
    "    \n",
    "    dice_score = dice_coefficient(original, reconstruction)\n",
    "    precision, accuracy, recall = conf_matrix(original, reconstruction)\n",
    "\n",
    "#     results.write(f\"Dice coefficient: {dice_score}\\n\")\n",
    "    print(prep_no, i)\n",
    "    print(f\"Dice coefficient: {dice_score}\")\n",
    "    print(f\"Precision: {precision}\\n\")\n",
    "    print(f\"Accuracy: {accuracy}\\n\")\n",
    "    print(f\"Recall: {recall}\\n\")\n",
    "    \n",
    "#     original_housdorff, reconstr_housdorff = hausdorff_distance(original, reconstruction)\n",
    "#     results.write(\"Directed housdorff (orginal): \" + str(original_housdorff) + '\\n')\n",
    "#     results.write(\"Directed housdorff (reconstruction): \" + str(reconstr_housdorff) + '\\n')\n",
    "    \n",
    "#     results.write(f\"Precision: {precision}\\n\")\n",
    "#     results.write(f\"Accuracy: {accuracy}\\n\")\n",
    "#     results.write(f\"Recall: {recall}\\n\")\n",
    "    \n",
    "#     results.flush()\n",
    "    \n",
    "# results.close()"
   ]
  },
  {
   "cell_type": "code",
   "execution_count": null,
   "id": "14331ff9",
   "metadata": {},
   "outputs": [],
   "source": []
  }
 ],
 "metadata": {
  "kernelspec": {
   "display_name": "Python 3 (ipykernel)",
   "language": "python",
   "name": "python3"
  },
  "language_info": {
   "codemirror_mode": {
    "name": "ipython",
    "version": 3
   },
   "file_extension": ".py",
   "mimetype": "text/x-python",
   "name": "python",
   "nbconvert_exporter": "python",
   "pygments_lexer": "ipython3",
   "version": "3.7.15"
  }
 },
 "nbformat": 4,
 "nbformat_minor": 5
}
